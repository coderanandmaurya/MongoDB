{
  "nbformat": 4,
  "nbformat_minor": 0,
  "metadata": {
    "colab": {
      "name": "mongodb_python.ipynb",
      "provenance": [],
      "authorship_tag": "ABX9TyN4c8ogQ3HLqzvSnP03bSeb",
      "include_colab_link": true
    },
    "kernelspec": {
      "name": "python3",
      "display_name": "Python 3"
    },
    "language_info": {
      "name": "python"
    }
  },
  "cells": [
    {
      "cell_type": "markdown",
      "metadata": {
        "id": "view-in-github",
        "colab_type": "text"
      },
      "source": [
        "<a href=\"https://colab.research.google.com/github/coderanandmaurya/MongoDB/blob/main/mongodb_python.ipynb\" target=\"_parent\"><img src=\"https://colab.research.google.com/assets/colab-badge.svg\" alt=\"Open In Colab\"/></a>"
      ]
    },
    {
      "cell_type": "markdown",
      "source": [
        "# **Install**"
      ],
      "metadata": {
        "id": "42yLKMZ4TGLl"
      }
    },
    {
      "cell_type": "code",
      "execution_count": 40,
      "metadata": {
        "colab": {
          "base_uri": "https://localhost:8080/"
        },
        "id": "k3TwefhULrwb",
        "outputId": "81091ce3-372f-4382-a7d2-1df2452bfd35"
      },
      "outputs": [
        {
          "output_type": "stream",
          "name": "stdout",
          "text": [
            "Reading package lists... Done\n",
            "Building dependency tree       \n",
            "Reading state information... Done\n",
            "mongodb is already the newest version (1:3.6.3-0ubuntu1.4).\n",
            "The following package was automatically installed and is no longer required:\n",
            "  libnvidia-common-460\n",
            "Use 'apt autoremove' to remove it.\n",
            "0 upgraded, 0 newly installed, 0 to remove and 42 not upgraded.\n",
            " * Starting database mongodb\n",
            "   ...done.\n"
          ]
        }
      ],
      "source": [
        "!apt install mongodb\n",
        "!service mongodb start"
      ]
    },
    {
      "cell_type": "markdown",
      "source": [
        "## **Import**"
      ],
      "metadata": {
        "id": "EuAIQy8CTyzD"
      }
    },
    {
      "cell_type": "code",
      "source": [
        "from pymongo import MongoClient"
      ],
      "metadata": {
        "id": "3nA-Wzaebhfr"
      },
      "execution_count": 41,
      "outputs": []
    },
    {
      "cell_type": "markdown",
      "source": [
        "# **Creating Connection**"
      ],
      "metadata": {
        "id": "zm4DtEAtMah_"
      }
    },
    {
      "cell_type": "code",
      "source": [
        "client = MongoClient()\n",
        "client.list_database_names() # ['admin', 'local']"
      ],
      "metadata": {
        "colab": {
          "base_uri": "https://localhost:8080/"
        },
        "id": "NYILYU8QOdCa",
        "outputId": "8ad293c8-935b-446e-9f64-7d2bfec90685"
      },
      "execution_count": 42,
      "outputs": [
        {
          "output_type": "execute_result",
          "data": {
            "text/plain": [
              "['admin', 'config', 'flowercapital', 'local']"
            ]
          },
          "metadata": {},
          "execution_count": 42
        }
      ]
    },
    {
      "cell_type": "markdown",
      "source": [
        "## **Creating database**"
      ],
      "metadata": {
        "id": "0F7HSysMSfCT"
      }
    },
    {
      "cell_type": "code",
      "source": [
        "#In MongoDB, a database is not created until it gets content!\n",
        "mydb=myclient[\"flowercapital\"]\n",
        "print(client.list_database_names())"
      ],
      "metadata": {
        "colab": {
          "base_uri": "https://localhost:8080/"
        },
        "id": "Y5RZ-VhUQPGg",
        "outputId": "b5573765-378e-47af-9b32-bc001362d9fe"
      },
      "execution_count": 43,
      "outputs": [
        {
          "output_type": "stream",
          "name": "stdout",
          "text": [
            "['admin', 'config', 'flowercapital', 'local']\n"
          ]
        }
      ]
    },
    {
      "cell_type": "markdown",
      "source": [
        "## **Creatng collecion**"
      ],
      "metadata": {
        "id": "e0QPlGuBSVJc"
      }
    },
    {
      "cell_type": "code",
      "source": [
        "mycol = mydb[\"jam\"]"
      ],
      "metadata": {
        "id": "3VA-ikesM1ey"
      },
      "execution_count": 44,
      "outputs": []
    },
    {
      "cell_type": "markdown",
      "source": [
        "## **insert one documnet**"
      ],
      "metadata": {
        "id": "oT3amGQTSOhz"
      }
    },
    {
      "cell_type": "code",
      "source": [
        "mydict = { \"name\": \"Peter\", \"address\": \"Lowstreet 27\" }\n",
        "\n",
        "x = mycol.insert_one(mydict)\n",
        "\n",
        "print(x.inserted_id)"
      ],
      "metadata": {
        "colab": {
          "base_uri": "https://localhost:8080/"
        },
        "id": "FTECWNGaNDhF",
        "outputId": "bdee4446-3154-4783-b724-e7a8ba808434"
      },
      "execution_count": 45,
      "outputs": [
        {
          "output_type": "stream",
          "name": "stdout",
          "text": [
            "628b5fcdb3ab0d061b57d169\n"
          ]
        }
      ]
    },
    {
      "cell_type": "markdown",
      "source": [
        "## **Insert Multiple Documents**"
      ],
      "metadata": {
        "id": "fPGXRFEYSF5c"
      }
    },
    {
      "cell_type": "code",
      "source": [
        "mylist = [\n",
        "  { \"name\": \"Amy\", \"address\": \"Apple st 652\"},\n",
        "  { \"name\": \"Hannah\", \"address\": \"Mountain 21\"},\n",
        "  { \"name\": \"Michael\", \"address\": \"Valley 345\"},\n",
        "  { \"name\": \"Sandy\", \"address\": \"Ocean blvd 2\"},\n",
        "  { \"name\": \"Betty\", \"address\": \"Green Grass 1\"},\n",
        "  { \"name\": \"Richard\", \"address\": \"Sky st 331\"},\n",
        "  { \"name\": \"Susan\", \"address\": \"One way 98\"},\n",
        "  { \"name\": \"Vicky\", \"address\": \"Yellow Garden 2\"},\n",
        "  { \"name\": \"Ben\", \"address\": \"Park Lane 38\"},\n",
        "  { \"name\": \"William\", \"address\": \"Central st 954\"},\n",
        "  { \"name\": \"Chuck\", \"address\": \"Main Road 989\"},\n",
        "  { \"name\": \"Viola\", \"address\": \"Sideway 1633\"}\n",
        "]\n",
        "\n",
        "x = mycol.insert_many(mylist)\n",
        "\n",
        "#print list of the _id values of the inserted documents:\n",
        "print(x.inserted_ids)"
      ],
      "metadata": {
        "colab": {
          "base_uri": "https://localhost:8080/"
        },
        "id": "3lcKpb4COCfe",
        "outputId": "705ce3b6-38ec-4dda-85bd-a0551124bb13"
      },
      "execution_count": 46,
      "outputs": [
        {
          "output_type": "stream",
          "name": "stdout",
          "text": [
            "[ObjectId('628b5fcdb3ab0d061b57d16a'), ObjectId('628b5fcdb3ab0d061b57d16b'), ObjectId('628b5fcdb3ab0d061b57d16c'), ObjectId('628b5fcdb3ab0d061b57d16d'), ObjectId('628b5fcdb3ab0d061b57d16e'), ObjectId('628b5fcdb3ab0d061b57d16f'), ObjectId('628b5fcdb3ab0d061b57d170'), ObjectId('628b5fcdb3ab0d061b57d171'), ObjectId('628b5fcdb3ab0d061b57d172'), ObjectId('628b5fcdb3ab0d061b57d173'), ObjectId('628b5fcdb3ab0d061b57d174'), ObjectId('628b5fcdb3ab0d061b57d175')]\n"
          ]
        }
      ]
    },
    {
      "cell_type": "markdown",
      "source": [
        "## **Insert Multiple Documents, with Specified IDs**"
      ],
      "metadata": {
        "id": "EHsHCZFMR4Sn"
      }
    },
    {
      "cell_type": "code",
      "source": [
        "mylist = [\n",
        "  { \"_id\": 1, \"name\": \"John\", \"address\": \"Highway 37\"},\n",
        "  { \"_id\": 2, \"name\": \"Peter\", \"address\": \"Lowstreet 27\"},\n",
        "  { \"_id\": 3, \"name\": \"Amy\", \"address\": \"Apple st 652\"},\n",
        "  { \"_id\": 4, \"name\": \"Hannah\", \"address\": \"Mountain 21\"},\n",
        "  { \"_id\": 5, \"name\": \"Michael\", \"address\": \"Valley 345\"},\n",
        "  { \"_id\": 6, \"name\": \"Sandy\", \"address\": \"Ocean blvd 2\"},\n",
        "  { \"_id\": 7, \"name\": \"Betty\", \"address\": \"Green Grass 1\"},\n",
        "  { \"_id\": 8, \"name\": \"Richard\", \"address\": \"Sky st 331\"},\n",
        "  { \"_id\": 9, \"name\": \"Susan\", \"address\": \"One way 98\"},\n",
        "  { \"_id\": 10, \"name\": \"Vicky\", \"address\": \"Yellow Garden 2\"},\n",
        "  { \"_id\": 11, \"name\": \"Ben\", \"address\": \"Park Lane 38\"},\n",
        "  { \"_id\": 12, \"name\": \"William\", \"address\": \"Central st 954\"},\n",
        "  { \"_id\": 13, \"name\": \"Chuck\", \"address\": \"Main Road 989\"},\n",
        "  { \"_id\": 14, \"name\": \"Viola\", \"address\": \"Sideway 1633\"}\n",
        "]\n",
        "\n",
        "x = mycol.insert_many(mylist)\n",
        "\n",
        "#print list of the _id values of the inserted documents:\n",
        "print(x.inserted_ids)"
      ],
      "metadata": {
        "colab": {
          "base_uri": "https://localhost:8080/"
        },
        "id": "WFS4yhgIOeSi",
        "outputId": "8bc2ac39-2431-45ca-d25c-9f85c10571af"
      },
      "execution_count": 47,
      "outputs": [
        {
          "output_type": "stream",
          "name": "stdout",
          "text": [
            "[1, 2, 3, 4, 5, 6, 7, 8, 9, 10, 11, 12, 13, 14]\n"
          ]
        }
      ]
    },
    {
      "cell_type": "markdown",
      "source": [
        "## **Find One**"
      ],
      "metadata": {
        "id": "2jb-zkFNVes6"
      }
    },
    {
      "cell_type": "code",
      "source": [
        "x = mycol.find_one()\n",
        "\n",
        "print(x)"
      ],
      "metadata": {
        "colab": {
          "base_uri": "https://localhost:8080/"
        },
        "id": "_yB3imDqVshd",
        "outputId": "c9022e67-8647-4451-a0eb-3a19a8e691fa"
      },
      "execution_count": 48,
      "outputs": [
        {
          "output_type": "stream",
          "name": "stdout",
          "text": [
            "{'_id': ObjectId('628b5fcdb3ab0d061b57d169'), 'name': 'Peter', 'address': 'Lowstreet 27'}\n"
          ]
        }
      ]
    },
    {
      "cell_type": "markdown",
      "source": [
        "## **Find All**"
      ],
      "metadata": {
        "id": "pNGlgFwFVe7h"
      }
    },
    {
      "cell_type": "code",
      "source": [
        "for x in mycol.find():\n",
        "  print(x)"
      ],
      "metadata": {
        "colab": {
          "base_uri": "https://localhost:8080/"
        },
        "id": "mxi_4zNcV5AX",
        "outputId": "6fedd476-7dc8-4b6a-df1a-367819b92987"
      },
      "execution_count": 49,
      "outputs": [
        {
          "output_type": "stream",
          "name": "stdout",
          "text": [
            "{'_id': ObjectId('628b5fcdb3ab0d061b57d169'), 'name': 'Peter', 'address': 'Lowstreet 27'}\n",
            "{'_id': ObjectId('628b5fcdb3ab0d061b57d16a'), 'name': 'Amy', 'address': 'Apple st 652'}\n",
            "{'_id': ObjectId('628b5fcdb3ab0d061b57d16b'), 'name': 'Hannah', 'address': 'Mountain 21'}\n",
            "{'_id': ObjectId('628b5fcdb3ab0d061b57d16c'), 'name': 'Michael', 'address': 'Valley 345'}\n",
            "{'_id': ObjectId('628b5fcdb3ab0d061b57d16d'), 'name': 'Sandy', 'address': 'Ocean blvd 2'}\n",
            "{'_id': ObjectId('628b5fcdb3ab0d061b57d16e'), 'name': 'Betty', 'address': 'Green Grass 1'}\n",
            "{'_id': ObjectId('628b5fcdb3ab0d061b57d16f'), 'name': 'Richard', 'address': 'Sky st 331'}\n",
            "{'_id': ObjectId('628b5fcdb3ab0d061b57d170'), 'name': 'Susan', 'address': 'One way 98'}\n",
            "{'_id': ObjectId('628b5fcdb3ab0d061b57d171'), 'name': 'Vicky', 'address': 'Yellow Garden 2'}\n",
            "{'_id': ObjectId('628b5fcdb3ab0d061b57d172'), 'name': 'Ben', 'address': 'Park Lane 38'}\n",
            "{'_id': ObjectId('628b5fcdb3ab0d061b57d173'), 'name': 'William', 'address': 'Central st 954'}\n",
            "{'_id': ObjectId('628b5fcdb3ab0d061b57d174'), 'name': 'Chuck', 'address': 'Main Road 989'}\n",
            "{'_id': ObjectId('628b5fcdb3ab0d061b57d175'), 'name': 'Viola', 'address': 'Sideway 1633'}\n",
            "{'_id': 1, 'name': 'John', 'address': 'Highway 37'}\n",
            "{'_id': 2, 'name': 'Peter', 'address': 'Lowstreet 27'}\n",
            "{'_id': 3, 'name': 'Amy', 'address': 'Apple st 652'}\n",
            "{'_id': 4, 'name': 'Hannah', 'address': 'Mountain 21'}\n",
            "{'_id': 5, 'name': 'Michael', 'address': 'Valley 345'}\n",
            "{'_id': 6, 'name': 'Sandy', 'address': 'Ocean blvd 2'}\n",
            "{'_id': 7, 'name': 'Betty', 'address': 'Green Grass 1'}\n",
            "{'_id': 8, 'name': 'Richard', 'address': 'Sky st 331'}\n",
            "{'_id': 9, 'name': 'Susan', 'address': 'One way 98'}\n",
            "{'_id': 10, 'name': 'Vicky', 'address': 'Yellow Garden 2'}\n",
            "{'_id': 11, 'name': 'Ben', 'address': 'Park Lane 38'}\n",
            "{'_id': 12, 'name': 'William', 'address': 'Central st 954'}\n",
            "{'_id': 13, 'name': 'Chuck', 'address': 'Main Road 989'}\n",
            "{'_id': 14, 'name': 'Viola', 'address': 'Sideway 1633'}\n"
          ]
        }
      ]
    },
    {
      "cell_type": "markdown",
      "source": [
        "## **Return Only Some Fields**"
      ],
      "metadata": {
        "id": "-yg9RYcnVfHD"
      }
    },
    {
      "cell_type": "code",
      "source": [
        "for x in mycol.find({},{ \"_id\": 0, \"name\": 1, \"address\": 1 }):\n",
        "  print(x)"
      ],
      "metadata": {
        "colab": {
          "base_uri": "https://localhost:8080/"
        },
        "id": "p-2BSPmyWCmt",
        "outputId": "4e6f575b-5556-4687-a482-308f75d9538c"
      },
      "execution_count": 50,
      "outputs": [
        {
          "output_type": "stream",
          "name": "stdout",
          "text": [
            "{'name': 'Peter', 'address': 'Lowstreet 27'}\n",
            "{'name': 'Amy', 'address': 'Apple st 652'}\n",
            "{'name': 'Hannah', 'address': 'Mountain 21'}\n",
            "{'name': 'Michael', 'address': 'Valley 345'}\n",
            "{'name': 'Sandy', 'address': 'Ocean blvd 2'}\n",
            "{'name': 'Betty', 'address': 'Green Grass 1'}\n",
            "{'name': 'Richard', 'address': 'Sky st 331'}\n",
            "{'name': 'Susan', 'address': 'One way 98'}\n",
            "{'name': 'Vicky', 'address': 'Yellow Garden 2'}\n",
            "{'name': 'Ben', 'address': 'Park Lane 38'}\n",
            "{'name': 'William', 'address': 'Central st 954'}\n",
            "{'name': 'Chuck', 'address': 'Main Road 989'}\n",
            "{'name': 'Viola', 'address': 'Sideway 1633'}\n",
            "{'name': 'John', 'address': 'Highway 37'}\n",
            "{'name': 'Peter', 'address': 'Lowstreet 27'}\n",
            "{'name': 'Amy', 'address': 'Apple st 652'}\n",
            "{'name': 'Hannah', 'address': 'Mountain 21'}\n",
            "{'name': 'Michael', 'address': 'Valley 345'}\n",
            "{'name': 'Sandy', 'address': 'Ocean blvd 2'}\n",
            "{'name': 'Betty', 'address': 'Green Grass 1'}\n",
            "{'name': 'Richard', 'address': 'Sky st 331'}\n",
            "{'name': 'Susan', 'address': 'One way 98'}\n",
            "{'name': 'Vicky', 'address': 'Yellow Garden 2'}\n",
            "{'name': 'Ben', 'address': 'Park Lane 38'}\n",
            "{'name': 'William', 'address': 'Central st 954'}\n",
            "{'name': 'Chuck', 'address': 'Main Road 989'}\n",
            "{'name': 'Viola', 'address': 'Sideway 1633'}\n"
          ]
        }
      ]
    },
    {
      "cell_type": "code",
      "source": [
        "# exclude \"address\" from the result\n",
        "for x in mycol.find({},{ \"address\": 0 }):\n",
        "  print(x)"
      ],
      "metadata": {
        "colab": {
          "base_uri": "https://localhost:8080/"
        },
        "id": "sWHFewzDWDJ3",
        "outputId": "685436a7-3e0a-4cb5-90e5-c3c13e672653"
      },
      "execution_count": 51,
      "outputs": [
        {
          "output_type": "stream",
          "name": "stdout",
          "text": [
            "{'_id': ObjectId('628b5fcdb3ab0d061b57d169'), 'name': 'Peter'}\n",
            "{'_id': ObjectId('628b5fcdb3ab0d061b57d16a'), 'name': 'Amy'}\n",
            "{'_id': ObjectId('628b5fcdb3ab0d061b57d16b'), 'name': 'Hannah'}\n",
            "{'_id': ObjectId('628b5fcdb3ab0d061b57d16c'), 'name': 'Michael'}\n",
            "{'_id': ObjectId('628b5fcdb3ab0d061b57d16d'), 'name': 'Sandy'}\n",
            "{'_id': ObjectId('628b5fcdb3ab0d061b57d16e'), 'name': 'Betty'}\n",
            "{'_id': ObjectId('628b5fcdb3ab0d061b57d16f'), 'name': 'Richard'}\n",
            "{'_id': ObjectId('628b5fcdb3ab0d061b57d170'), 'name': 'Susan'}\n",
            "{'_id': ObjectId('628b5fcdb3ab0d061b57d171'), 'name': 'Vicky'}\n",
            "{'_id': ObjectId('628b5fcdb3ab0d061b57d172'), 'name': 'Ben'}\n",
            "{'_id': ObjectId('628b5fcdb3ab0d061b57d173'), 'name': 'William'}\n",
            "{'_id': ObjectId('628b5fcdb3ab0d061b57d174'), 'name': 'Chuck'}\n",
            "{'_id': ObjectId('628b5fcdb3ab0d061b57d175'), 'name': 'Viola'}\n",
            "{'_id': 1, 'name': 'John'}\n",
            "{'_id': 2, 'name': 'Peter'}\n",
            "{'_id': 3, 'name': 'Amy'}\n",
            "{'_id': 4, 'name': 'Hannah'}\n",
            "{'_id': 5, 'name': 'Michael'}\n",
            "{'_id': 6, 'name': 'Sandy'}\n",
            "{'_id': 7, 'name': 'Betty'}\n",
            "{'_id': 8, 'name': 'Richard'}\n",
            "{'_id': 9, 'name': 'Susan'}\n",
            "{'_id': 10, 'name': 'Vicky'}\n",
            "{'_id': 11, 'name': 'Ben'}\n",
            "{'_id': 12, 'name': 'William'}\n",
            "{'_id': 13, 'name': 'Chuck'}\n",
            "{'_id': 14, 'name': 'Viola'}\n"
          ]
        }
      ]
    },
    {
      "cell_type": "markdown",
      "source": [
        "## **Filter the Result**"
      ],
      "metadata": {
        "id": "2Z-ySKXQWo_r"
      }
    },
    {
      "cell_type": "code",
      "source": [
        "# Find document(s) with the address \"Park Lane 38\"\n",
        "myquery = { \"address\": \"Park Lane 38\" }\n",
        "\n",
        "mydoc = mycol.find(myquery)\n",
        "\n",
        "for x in mydoc:\n",
        "  print(x)"
      ],
      "metadata": {
        "colab": {
          "base_uri": "https://localhost:8080/"
        },
        "id": "_lXNUvp4WJ34",
        "outputId": "66ca2db9-d306-41fd-f6af-03c303c8dcff"
      },
      "execution_count": 52,
      "outputs": [
        {
          "output_type": "stream",
          "name": "stdout",
          "text": [
            "{'_id': ObjectId('628b5fcdb3ab0d061b57d172'), 'name': 'Ben', 'address': 'Park Lane 38'}\n",
            "{'_id': 11, 'name': 'Ben', 'address': 'Park Lane 38'}\n"
          ]
        }
      ]
    },
    {
      "cell_type": "markdown",
      "source": [
        "## **Advanced Query**"
      ],
      "metadata": {
        "id": "CNepV2THXIFC"
      }
    },
    {
      "cell_type": "code",
      "source": [
        "# Find documents where the address starts with the letter \"S\" or higher\n",
        "\n",
        "myquery = { \"address\": { \"$gt\": \"S\" } }\n",
        "\n",
        "mydoc = mycol.find(myquery)\n",
        "\n",
        "for x in mydoc:\n",
        "  print(x)"
      ],
      "metadata": {
        "colab": {
          "base_uri": "https://localhost:8080/"
        },
        "id": "4a6KU-Z3W5mO",
        "outputId": "1214e89c-a70e-48b7-ce6e-ff447cdfa6de"
      },
      "execution_count": 53,
      "outputs": [
        {
          "output_type": "stream",
          "name": "stdout",
          "text": [
            "{'_id': ObjectId('628b5fcdb3ab0d061b57d16c'), 'name': 'Michael', 'address': 'Valley 345'}\n",
            "{'_id': ObjectId('628b5fcdb3ab0d061b57d16f'), 'name': 'Richard', 'address': 'Sky st 331'}\n",
            "{'_id': ObjectId('628b5fcdb3ab0d061b57d171'), 'name': 'Vicky', 'address': 'Yellow Garden 2'}\n",
            "{'_id': ObjectId('628b5fcdb3ab0d061b57d175'), 'name': 'Viola', 'address': 'Sideway 1633'}\n",
            "{'_id': 5, 'name': 'Michael', 'address': 'Valley 345'}\n",
            "{'_id': 8, 'name': 'Richard', 'address': 'Sky st 331'}\n",
            "{'_id': 10, 'name': 'Vicky', 'address': 'Yellow Garden 2'}\n",
            "{'_id': 14, 'name': 'Viola', 'address': 'Sideway 1633'}\n"
          ]
        }
      ]
    },
    {
      "cell_type": "markdown",
      "source": [
        "## **Filter With Regular Expressions**"
      ],
      "metadata": {
        "id": "sQUhaWssXbdL"
      }
    },
    {
      "cell_type": "code",
      "source": [
        "myquery = { \"address\": { \"$regex\": \"^S\" } }\n",
        "\n",
        "mydoc = mycol.find(myquery)\n",
        "\n",
        "for x in mydoc:\n",
        "  print(x)"
      ],
      "metadata": {
        "colab": {
          "base_uri": "https://localhost:8080/"
        },
        "id": "thxjz78IXwQL",
        "outputId": "26c9a4ce-41bc-409b-e6a4-3bbad9ba46e2"
      },
      "execution_count": 54,
      "outputs": [
        {
          "output_type": "stream",
          "name": "stdout",
          "text": [
            "{'_id': ObjectId('628b5fcdb3ab0d061b57d16f'), 'name': 'Richard', 'address': 'Sky st 331'}\n",
            "{'_id': ObjectId('628b5fcdb3ab0d061b57d175'), 'name': 'Viola', 'address': 'Sideway 1633'}\n",
            "{'_id': 8, 'name': 'Richard', 'address': 'Sky st 331'}\n",
            "{'_id': 14, 'name': 'Viola', 'address': 'Sideway 1633'}\n"
          ]
        }
      ]
    },
    {
      "cell_type": "markdown",
      "source": [
        "## **Sort the Result**"
      ],
      "metadata": {
        "id": "x0_V3dODX_1J"
      }
    },
    {
      "cell_type": "code",
      "source": [
        "mydoc = mycol.find().sort(\"name\")\n",
        "\n",
        "for x in mydoc:\n",
        "  print(x)"
      ],
      "metadata": {
        "colab": {
          "base_uri": "https://localhost:8080/"
        },
        "id": "tqrIkMCoXwv4",
        "outputId": "782056a4-e1cf-4efe-9564-7836507da982"
      },
      "execution_count": 55,
      "outputs": [
        {
          "output_type": "stream",
          "name": "stdout",
          "text": [
            "{'_id': ObjectId('628b5fcdb3ab0d061b57d16a'), 'name': 'Amy', 'address': 'Apple st 652'}\n",
            "{'_id': 3, 'name': 'Amy', 'address': 'Apple st 652'}\n",
            "{'_id': ObjectId('628b5fcdb3ab0d061b57d172'), 'name': 'Ben', 'address': 'Park Lane 38'}\n",
            "{'_id': 11, 'name': 'Ben', 'address': 'Park Lane 38'}\n",
            "{'_id': ObjectId('628b5fcdb3ab0d061b57d16e'), 'name': 'Betty', 'address': 'Green Grass 1'}\n",
            "{'_id': 7, 'name': 'Betty', 'address': 'Green Grass 1'}\n",
            "{'_id': ObjectId('628b5fcdb3ab0d061b57d174'), 'name': 'Chuck', 'address': 'Main Road 989'}\n",
            "{'_id': 13, 'name': 'Chuck', 'address': 'Main Road 989'}\n",
            "{'_id': ObjectId('628b5fcdb3ab0d061b57d16b'), 'name': 'Hannah', 'address': 'Mountain 21'}\n",
            "{'_id': 4, 'name': 'Hannah', 'address': 'Mountain 21'}\n",
            "{'_id': 1, 'name': 'John', 'address': 'Highway 37'}\n",
            "{'_id': ObjectId('628b5fcdb3ab0d061b57d16c'), 'name': 'Michael', 'address': 'Valley 345'}\n",
            "{'_id': 5, 'name': 'Michael', 'address': 'Valley 345'}\n",
            "{'_id': ObjectId('628b5fcdb3ab0d061b57d169'), 'name': 'Peter', 'address': 'Lowstreet 27'}\n",
            "{'_id': 2, 'name': 'Peter', 'address': 'Lowstreet 27'}\n",
            "{'_id': ObjectId('628b5fcdb3ab0d061b57d16f'), 'name': 'Richard', 'address': 'Sky st 331'}\n",
            "{'_id': 8, 'name': 'Richard', 'address': 'Sky st 331'}\n",
            "{'_id': ObjectId('628b5fcdb3ab0d061b57d16d'), 'name': 'Sandy', 'address': 'Ocean blvd 2'}\n",
            "{'_id': 6, 'name': 'Sandy', 'address': 'Ocean blvd 2'}\n",
            "{'_id': ObjectId('628b5fcdb3ab0d061b57d170'), 'name': 'Susan', 'address': 'One way 98'}\n",
            "{'_id': 9, 'name': 'Susan', 'address': 'One way 98'}\n",
            "{'_id': ObjectId('628b5fcdb3ab0d061b57d171'), 'name': 'Vicky', 'address': 'Yellow Garden 2'}\n",
            "{'_id': 10, 'name': 'Vicky', 'address': 'Yellow Garden 2'}\n",
            "{'_id': ObjectId('628b5fcdb3ab0d061b57d175'), 'name': 'Viola', 'address': 'Sideway 1633'}\n",
            "{'_id': 14, 'name': 'Viola', 'address': 'Sideway 1633'}\n",
            "{'_id': ObjectId('628b5fcdb3ab0d061b57d173'), 'name': 'William', 'address': 'Central st 954'}\n",
            "{'_id': 12, 'name': 'William', 'address': 'Central st 954'}\n"
          ]
        }
      ]
    },
    {
      "cell_type": "markdown",
      "source": [
        "## **Sort Descending**\n",
        "- sort(\"name\", 1) #ascending \n",
        "- sort(\"name\", -1) #descending"
      ],
      "metadata": {
        "id": "BbKl5SVyYLhp"
      }
    },
    {
      "cell_type": "code",
      "source": [
        "mydoc = mycol.find().sort(\"name\", -1)\n",
        "\n",
        "for x in mydoc:\n",
        "  print(x)"
      ],
      "metadata": {
        "colab": {
          "base_uri": "https://localhost:8080/"
        },
        "id": "-IRNBxSEY-4o",
        "outputId": "b6c39808-5b7a-4554-f771-2caeacd6d0de"
      },
      "execution_count": 56,
      "outputs": [
        {
          "output_type": "stream",
          "name": "stdout",
          "text": [
            "{'_id': ObjectId('628b5fcdb3ab0d061b57d173'), 'name': 'William', 'address': 'Central st 954'}\n",
            "{'_id': 12, 'name': 'William', 'address': 'Central st 954'}\n",
            "{'_id': ObjectId('628b5fcdb3ab0d061b57d175'), 'name': 'Viola', 'address': 'Sideway 1633'}\n",
            "{'_id': 14, 'name': 'Viola', 'address': 'Sideway 1633'}\n",
            "{'_id': ObjectId('628b5fcdb3ab0d061b57d171'), 'name': 'Vicky', 'address': 'Yellow Garden 2'}\n",
            "{'_id': 10, 'name': 'Vicky', 'address': 'Yellow Garden 2'}\n",
            "{'_id': ObjectId('628b5fcdb3ab0d061b57d170'), 'name': 'Susan', 'address': 'One way 98'}\n",
            "{'_id': 9, 'name': 'Susan', 'address': 'One way 98'}\n",
            "{'_id': ObjectId('628b5fcdb3ab0d061b57d16d'), 'name': 'Sandy', 'address': 'Ocean blvd 2'}\n",
            "{'_id': 6, 'name': 'Sandy', 'address': 'Ocean blvd 2'}\n",
            "{'_id': ObjectId('628b5fcdb3ab0d061b57d16f'), 'name': 'Richard', 'address': 'Sky st 331'}\n",
            "{'_id': 8, 'name': 'Richard', 'address': 'Sky st 331'}\n",
            "{'_id': ObjectId('628b5fcdb3ab0d061b57d169'), 'name': 'Peter', 'address': 'Lowstreet 27'}\n",
            "{'_id': 2, 'name': 'Peter', 'address': 'Lowstreet 27'}\n",
            "{'_id': ObjectId('628b5fcdb3ab0d061b57d16c'), 'name': 'Michael', 'address': 'Valley 345'}\n",
            "{'_id': 5, 'name': 'Michael', 'address': 'Valley 345'}\n",
            "{'_id': 1, 'name': 'John', 'address': 'Highway 37'}\n",
            "{'_id': ObjectId('628b5fcdb3ab0d061b57d16b'), 'name': 'Hannah', 'address': 'Mountain 21'}\n",
            "{'_id': 4, 'name': 'Hannah', 'address': 'Mountain 21'}\n",
            "{'_id': ObjectId('628b5fcdb3ab0d061b57d174'), 'name': 'Chuck', 'address': 'Main Road 989'}\n",
            "{'_id': 13, 'name': 'Chuck', 'address': 'Main Road 989'}\n",
            "{'_id': ObjectId('628b5fcdb3ab0d061b57d16e'), 'name': 'Betty', 'address': 'Green Grass 1'}\n",
            "{'_id': 7, 'name': 'Betty', 'address': 'Green Grass 1'}\n",
            "{'_id': ObjectId('628b5fcdb3ab0d061b57d172'), 'name': 'Ben', 'address': 'Park Lane 38'}\n",
            "{'_id': 11, 'name': 'Ben', 'address': 'Park Lane 38'}\n",
            "{'_id': ObjectId('628b5fcdb3ab0d061b57d16a'), 'name': 'Amy', 'address': 'Apple st 652'}\n",
            "{'_id': 3, 'name': 'Amy', 'address': 'Apple st 652'}\n"
          ]
        }
      ]
    },
    {
      "cell_type": "markdown",
      "source": [
        "## **Delete One**"
      ],
      "metadata": {
        "id": "FZDYVQfUZL1v"
      }
    },
    {
      "cell_type": "code",
      "source": [
        "myquery = { \"address\": \"Mountain 21\" }\n",
        "\n",
        "mycol.delete_one(myquery)"
      ],
      "metadata": {
        "colab": {
          "base_uri": "https://localhost:8080/"
        },
        "id": "6Qpkg2GTZPqA",
        "outputId": "39227421-6a9c-45c7-8f47-2ff606aa2be4"
      },
      "execution_count": 57,
      "outputs": [
        {
          "output_type": "execute_result",
          "data": {
            "text/plain": [
              "<pymongo.results.DeleteResult at 0x7fbf2e7a2710>"
            ]
          },
          "metadata": {},
          "execution_count": 57
        }
      ]
    },
    {
      "cell_type": "markdown",
      "source": [
        "## **Delete Many Documents**"
      ],
      "metadata": {
        "id": "VYIf4UbpZXe2"
      }
    },
    {
      "cell_type": "code",
      "source": [
        "myquery = { \"address\": {\"$regex\": \"^S\"} }\n",
        "\n",
        "x = mycol.delete_many(myquery)\n",
        "\n",
        "print(x.deleted_count, \" documents deleted.\")"
      ],
      "metadata": {
        "colab": {
          "base_uri": "https://localhost:8080/"
        },
        "id": "F8SJFnkvZgkX",
        "outputId": "4413a9fa-71c1-417b-a96e-8dc8e6b275fb"
      },
      "execution_count": 58,
      "outputs": [
        {
          "output_type": "stream",
          "name": "stdout",
          "text": [
            "4  documents deleted.\n"
          ]
        }
      ]
    },
    {
      "cell_type": "markdown",
      "source": [
        "## **Delete All Documents in a Collection**"
      ],
      "metadata": {
        "id": "ODHiNIdGZjdO"
      }
    },
    {
      "cell_type": "code",
      "source": [
        "x = mycol.delete_many({})\n",
        "\n",
        "print(x.deleted_count, \" documents deleted.\")"
      ],
      "metadata": {
        "colab": {
          "base_uri": "https://localhost:8080/"
        },
        "id": "hOyOVqt-ZsoW",
        "outputId": "d111a9e8-d13b-41e8-8270-32e15cfc53d9"
      },
      "execution_count": 59,
      "outputs": [
        {
          "output_type": "stream",
          "name": "stdout",
          "text": [
            "22  documents deleted.\n"
          ]
        }
      ]
    },
    {
      "cell_type": "markdown",
      "source": [
        "## **Delete Collection**"
      ],
      "metadata": {
        "id": "at5ZPrSlZ1qV"
      }
    },
    {
      "cell_type": "code",
      "source": [
        "mycol1 = mydb[\"customers\"]\n",
        "\n",
        "mycol1.drop()"
      ],
      "metadata": {
        "id": "x-UnCPWrZwID"
      },
      "execution_count": 60,
      "outputs": []
    },
    {
      "cell_type": "markdown",
      "source": [
        "## **Update One**"
      ],
      "metadata": {
        "id": "6VUNOtHaacrd"
      }
    },
    {
      "cell_type": "code",
      "source": [
        "myquery = { \"address\": \"Valley 345\" }\n",
        "newvalues = { \"$set\": { \"address\": \"Canyon 123\" } }\n",
        "\n",
        "mycol.update_one(myquery, newvalues)\n",
        "\n",
        "#print \"customers\" after the update:\n",
        "for x in mycol.find():\n",
        "  print(x)"
      ],
      "metadata": {
        "id": "di84MvNeawWA"
      },
      "execution_count": 61,
      "outputs": []
    },
    {
      "cell_type": "markdown",
      "source": [
        "## **Update Many**"
      ],
      "metadata": {
        "id": "kQbrWGUrazxt"
      }
    },
    {
      "cell_type": "code",
      "source": [
        "myquery = { \"address\": { \"$regex\": \"^S\" } }\n",
        "newvalues = { \"$set\": { \"name\": \"Minnie\" } }\n",
        "\n",
        "x = mycol.update_many(myquery, newvalues)\n",
        "\n",
        "print(x.modified_count, \"documents updated.\")"
      ],
      "metadata": {
        "colab": {
          "base_uri": "https://localhost:8080/"
        },
        "id": "ONCr6jeIaxSu",
        "outputId": "93bc7f91-8809-4ea7-8b35-128c0d472941"
      },
      "execution_count": 62,
      "outputs": [
        {
          "output_type": "stream",
          "name": "stdout",
          "text": [
            "0 documents updated.\n"
          ]
        }
      ]
    },
    {
      "cell_type": "markdown",
      "source": [
        "## **Limit the result to only return 5 documents**"
      ],
      "metadata": {
        "id": "q7PjC5vXbB5j"
      }
    },
    {
      "cell_type": "code",
      "source": [
        "myresult = mycol.find().limit(5)\n",
        "\n",
        "#print the result:\n",
        "for x in myresult:\n",
        "  print(x)"
      ],
      "metadata": {
        "id": "HbAaSHNMbBSD"
      },
      "execution_count": 63,
      "outputs": []
    }
  ]
}